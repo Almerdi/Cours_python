{
 "cells": [
  {
   "cell_type": "code",
   "execution_count": 1,
   "metadata": {},
   "outputs": [
    {
     "ename": "NameError",
     "evalue": "name 'mode' is not defined",
     "output_type": "error",
     "traceback": [
      "\u001b[1;31m---------------------------------------------------------------------------\u001b[0m",
      "\u001b[1;31mNameError\u001b[0m                                 Traceback (most recent call last)",
      "Cell \u001b[1;32mIn[1], line 1\u001b[0m\n\u001b[1;32m----> 1\u001b[0m fichier \u001b[38;5;241m=\u001b[39m \u001b[38;5;28mopen\u001b[39m(\u001b[38;5;124m\"\u001b[39m\u001b[38;5;124mnom_du_fichier.txt\u001b[39m\u001b[38;5;124m\"\u001b[39m, \u001b[43mmode\u001b[49m)\n\u001b[0;32m      2\u001b[0m \u001b[38;5;66;03m# Opérations sur le fichier\u001b[39;00m\n\u001b[0;32m      3\u001b[0m fichier\u001b[38;5;241m.\u001b[39mclose()\n",
      "\u001b[1;31mNameError\u001b[0m: name 'mode' is not defined"
     ]
    }
   ],
   "source": [
    "fichier = open(\"nom_du_fichier.txt\", mode)\n",
    "# Opérations sur le fichier\n",
    "fichier.close()"
   ]
  },
  {
   "cell_type": "code",
   "execution_count": 2,
   "metadata": {},
   "outputs": [
    {
     "name": "stdout",
     "output_type": "stream",
     "text": [
      "Ceci est une nouvelle ligne.\n",
      "Une autre ligne ajoutée.\n",
      "voilà la troisième lignes\n",
      "voilà la quatrème lignes\n"
     ]
    }
   ],
   "source": [
    "# Ouvrir un fichier en lecture\n",
    "fichier = open(\"exemple.txt\", \"r\")\n",
    "contenu = fichier.read()\n",
    "print(contenu)\n",
    "fichier.close()"
   ]
  },
  {
   "cell_type": "code",
   "execution_count": 3,
   "metadata": {},
   "outputs": [
    {
     "name": "stdout",
     "output_type": "stream",
     "text": [
      "Ceci est une nouvelle ligne.\n",
      "Une autre ligne ajoutée.\n",
      "voilà la troisième lignes\n",
      "voilà la quatrème lignes\n"
     ]
    }
   ],
   "source": [
    "with open(\"exemple.txt\", \"r\") as fichier:\n",
    "    contenu = fichier.read()\n",
    "    print(contenu)"
   ]
  },
  {
   "cell_type": "code",
   "execution_count": 8,
   "metadata": {},
   "outputs": [
    {
     "name": "stdout",
     "output_type": "stream",
     "text": [
      "Ceci est une nouvelle ligne.\n",
      " NEW : Une autre ligne ajoutée.\n",
      "Une autre ligne ajoutée.\n",
      " NEW : voilà la troisième lignes\n",
      "voilà la troisième lignes\n",
      " NEW : voilà la quatrème lignes\n",
      "voilà la quatrème lignes\n",
      " NEW : \n"
     ]
    }
   ],
   "source": [
    "with open(\"exemple.txt\", \"r\") as fichier:\n",
    "    ligne = fichier.readline()\n",
    "    while ligne:\n",
    "        print(ligne.strip())  # Retirer les sauts de ligne\n",
    "        ligne = fichier.readline()\n",
    "        print(\" NEW :\",ligne.strip())"
   ]
  },
  {
   "cell_type": "code",
   "execution_count": 9,
   "metadata": {},
   "outputs": [
    {
     "name": "stdout",
     "output_type": "stream",
     "text": [
      "['Ceci est une nouvelle ligne.\\n', 'Une autre ligne ajoutée.\\n', 'voilà la troisième lignes\\n', 'voilà la quatrème lignes']\n"
     ]
    }
   ],
   "source": [
    "with open(\"exemple.txt\", \"r\") as fichier:\n",
    "    lignes = fichier.readlines()\n",
    "    print(lignes)"
   ]
  },
  {
   "cell_type": "code",
   "execution_count": null,
   "metadata": {},
   "outputs": [],
   "source": [
    "with open(\"exemple.txt\", \"w\") as fichier:\n",
    "    fichier.write(\"Ceci est une nouvelle ligne.\\n\")\n",
    "\n"
   ]
  },
  {
   "cell_type": "code",
   "execution_count": 22,
   "metadata": {},
   "outputs": [
    {
     "data": {
      "text/plain": [
       "(20, 18, 15)"
      ]
     },
     "execution_count": 22,
     "metadata": {},
     "output_type": "execute_result"
    }
   ],
   "source": [
    "# Ajouter du contenu avec a :\n",
    "\n",
    "\n",
    "with open(\"exemple.txt\", \"a\") as fichier:\n",
    "    fichier.write(\"Une autre ligne ajoutée.\\n\")"
   ]
  },
  {
   "cell_type": "code",
   "execution_count": null,
   "metadata": {},
   "outputs": [],
   "source": [
    "# Écrire plusieurs lignes :\n",
    "\n",
    "lignes = [\"Ligne 1\\n\", \"Ligne 2\\n\", \"Ligne 3\\n\"]\n",
    "with open(\"exemple.txt\", \"w\") as fichier:\n",
    "    fichier.writelines(lignes)"
   ]
  }
 ],
 "metadata": {
  "kernelspec": {
   "display_name": "base",
   "language": "python",
   "name": "python3"
  },
  "language_info": {
   "codemirror_mode": {
    "name": "ipython",
    "version": 3
   },
   "file_extension": ".py",
   "mimetype": "text/x-python",
   "name": "python",
   "nbconvert_exporter": "python",
   "pygments_lexer": "ipython3",
   "version": "3.12.3"
  }
 },
 "nbformat": 4,
 "nbformat_minor": 2
}
