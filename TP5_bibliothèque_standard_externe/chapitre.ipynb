{
 "cells": [
  {
   "cell_type": "markdown",
   "metadata": {},
   "source": [
    "1. Calculer l'aire d'un cercle à partir de son rayon (module math).\n",
    "2. Générer un mot de passe aléatoire (module random)."
   ]
  },
  {
   "cell_type": "code",
   "execution_count": 2,
   "metadata": {},
   "outputs": [
    {
     "name": "stdout",
     "output_type": "stream",
     "text": [
      "l'aire de cercle est : 78.53981633974483\n"
     ]
    }
   ],
   "source": [
    "# importer la bibiotheque math\n",
    "import math\n",
    "\n",
    "rayon=float(input(\"Veuillez entrer la valeur de rayon\"))\n",
    "aire = math.pi*rayon**2\n",
    "print(f\"l'aire de cercle est : {aire}\")\n"
   ]
  },
  {
   "cell_type": "markdown",
   "metadata": {},
   "source": [
    "2. Générer un mot de passe aléatoire (module random)."
   ]
  },
  {
   "cell_type": "code",
   "execution_count": 8,
   "metadata": {},
   "outputs": [
    {
     "name": "stdout",
     "output_type": "stream",
     "text": [
      "831399\n"
     ]
    }
   ],
   "source": [
    "import random\n",
    "\n",
    "mot_de_passe = [ str(random.randint(0,9) )for i in range(6)]\n",
    "print(''.join(mot_de_passe))"
   ]
  },
  {
   "cell_type": "markdown",
   "metadata": {},
   "source": [
    "2eme mthode "
   ]
  },
  {
   "cell_type": "code",
   "execution_count": 11,
   "metadata": {},
   "outputs": [
    {
     "data": {
      "text/plain": [
       "'abcdefghijklmnopqrstuvwxyzABCDEFGHIJKLMNOPQRSTUVWXYZ0123456789!\"#$%&\\'()*+,-./:;<=>?@[\\\\]^_`{|}~'"
      ]
     },
     "execution_count": 11,
     "metadata": {},
     "output_type": "execute_result"
    }
   ],
   "source": [
    "import string\n",
    "caracteres = string.ascii_letters + string.digits + string.punctuation\n",
    "caracteres"
   ]
  },
  {
   "cell_type": "code",
   "execution_count": null,
   "metadata": {},
   "outputs": [],
   "source": [
    "import string \n",
    "string."
   ]
  },
  {
   "cell_type": "code",
   "execution_count": 15,
   "metadata": {},
   "outputs": [
    {
     "data": {
      "text/plain": [
       "[20, 18, 15, 14, 12, 10, 8]"
      ]
     },
     "execution_count": 15,
     "metadata": {},
     "output_type": "execute_result"
    }
   ],
   "source": [
    "import random\n",
    "import string\n",
    "\n",
    "# Définir la longueur du mot de passe\n",
    "longueur = int(input(\"Entrez la longueur du mot de passe : \"))\n",
    "\n",
    "# Combiner des caractères alphanumériques et spéciaux\n",
    "caracteres = string.ascii_letters + string.digits + string.punctuation\n",
    "\n",
    "# Générer le mot de passe\n",
    "mot_de_passe = ''.join(random.choice(caracteres) for _ in range(longueur))\n",
    "\n",
    "# Afficher le mot de passe généré\n",
    "print(f\"Votre mot de passe généré est : {mot_de_passe}\")"
   ]
  },
  {
   "cell_type": "markdown",
   "metadata": {},
   "source": [
    "\n",
    "### 1. Utiliser os.path.join pour créer des chemins\n",
    "\n",
    "Cette méthode permet de combiner des segments de chemin en respectant les conventions du système d'exploitation (slash ou backslash).  \n",
    "\n",
    "Sur Windows :  \n",
    "mon_dossier\\mes_fichiers\\document.txt  \n",
    "Sur Linux :  \n",
    "mon_dossier/mes_fichiers/document.txt"
   ]
  },
  {
   "cell_type": "code",
   "execution_count": 12,
   "metadata": {},
   "outputs": [
    {
     "name": "stdout",
     "output_type": "stream",
     "text": [
      "Chemin construit : mon_dossier\\mes_fichiers\\document.txt\n"
     ]
    }
   ],
   "source": [
    "import os\n",
    "\n",
    "# Construire un chemin multiplateforme\n",
    "dossier_principal = \"mon_dossier\"\n",
    "sous_dossier = \"mes_fichiers\"\n",
    "fichier = \"document.txt\"\n",
    "\n",
    "chemin_complet = os.path.join(dossier_principal, sous_dossier, fichier)\n",
    "print(f\"Chemin construit : {chemin_complet}\")\n"
   ]
  },
  {
   "cell_type": "markdown",
   "metadata": {},
   "source": [
    "### 1. Utiliser os.path.join pour créer des chemins\n",
    "Cette méthode permet de combiner des segments de chemin en respectant les conventions du système d'exploitation (slash ou backslash)."
   ]
  },
  {
   "cell_type": "code",
   "execution_count": null,
   "metadata": {},
   "outputs": [],
   "source": []
  },
  {
   "cell_type": "markdown",
   "metadata": {},
   "source": [
    "### 2. Normaliser un chemin avec os.path.normpath\n",
    "Si vous avez un chemin avec des séparateurs mélangés, cette méthode le corrige automatiquement pour le rendre valide sur l’OS."
   ]
  },
  {
   "cell_type": "code",
   "execution_count": null,
   "metadata": {},
   "outputs": [],
   "source": [
    "chemin = \"mon_dossier/mes_fichiers\\\\document.txt\"\n",
    "chemin_normalise = os.path.normpath(chemin)\n",
    "print(f\"Chemin normalisé : {chemin_normalise}\")\n"
   ]
  },
  {
   "cell_type": "markdown",
   "metadata": {},
   "source": [
    "\n",
    "3. Vérifier l'existence de fichiers ou répertoires avec os.path.exists\n",
    "Cette méthode est utile pour éviter les erreurs en manipulant des chemins invalides.\n"
   ]
  },
  {
   "cell_type": "code",
   "execution_count": 13,
   "metadata": {},
   "outputs": [
    {
     "name": "stdout",
     "output_type": "stream",
     "text": [
      "Le chemin n'existe pas : mon_dossier/mes_fichiers/document.txt\n"
     ]
    }
   ],
   "source": [
    "chemin = \"mon_dossier/mes_fichiers/document.txt\"\n",
    "\n",
    "if os.path.exists(chemin):\n",
    "    print(f\"Le chemin existe : {chemin}\")\n",
    "else:\n",
    "    print(f\"Le chemin n'existe pas : {chemin}\")"
   ]
  },
  {
   "cell_type": "markdown",
   "metadata": {},
   "source": [
    "4. Identifier si un chemin est un fichier ou un répertoire  \n",
    "\n",
    "- Utilisez os.path.isfile pour vérifier si c'est un fichier.  \n",
    "- Utilisez os.path.isdir pour vérifier si c'est un répertoire."
   ]
  },
  {
   "cell_type": "code",
   "execution_count": 14,
   "metadata": {},
   "outputs": [
    {
     "name": "stdout",
     "output_type": "stream",
     "text": [
      "'mon_dossier/mes_fichiers/document.txt' n'existe pas.\n"
     ]
    }
   ],
   "source": [
    "chemin = \"mon_dossier/mes_fichiers/document.txt\"\n",
    "\n",
    "if os.path.isfile(chemin):\n",
    "    print(f\"'{chemin}' est un fichier.\")\n",
    "elif os.path.isdir(chemin):\n",
    "    print(f\"'{chemin}' est un répertoire.\")\n",
    "else:\n",
    "    print(f\"'{chemin}' n'existe pas.\")\n"
   ]
  },
  {
   "cell_type": "markdown",
   "metadata": {},
   "source": [
    " ### 5. Obtenir le chemin absolu avec os.path.abspath  \n",
    "Cela transforme un chemin relatif en chemin absolu, ce qui peut être utile dans les scripts."
   ]
  },
  {
   "cell_type": "code",
   "execution_count": 15,
   "metadata": {},
   "outputs": [
    {
     "name": "stdout",
     "output_type": "stream",
     "text": [
      "Chemin absolu : c:\\Users\\Abdellah\\Desktop\\Universite de lille\\Cours_python\\TP5_bibliothèque_standard_externe\\mon_dossier\\mes_fichiers\\document.txt\n"
     ]
    }
   ],
   "source": [
    "chemin_relatif = \"mon_dossier/mes_fichiers/document.txt\"\n",
    "chemin_absolu = os.path.abspath(chemin_relatif)\n",
    "print(f\"Chemin absolu : {chemin_absolu}\")\n"
   ]
  },
  {
   "cell_type": "markdown",
   "metadata": {},
   "source": [
    "6. Gérer le séparateur de chemin avec os.sep"
   ]
  },
  {
   "cell_type": "code",
   "execution_count": 16,
   "metadata": {},
   "outputs": [
    {
     "name": "stdout",
     "output_type": "stream",
     "text": [
      "Chemin construit avec os.sep : mon_dossier\\mes_fichiers\\document.txt\n"
     ]
    }
   ],
   "source": [
    "chemin = f\"mon_dossier{os.sep}mes_fichiers{os.sep}document.txt\"\n",
    "print(f\"Chemin construit avec os.sep : {chemin}\")"
   ]
  },
  {
   "cell_type": "code",
   "execution_count": 17,
   "metadata": {},
   "outputs": [
    {
     "name": "stdout",
     "output_type": "stream",
     "text": [
      "Heure actuelle : 2025-01-01 20:57:12.750228\n"
     ]
    }
   ],
   "source": [
    "# 1. Obtenir la date et l'heure actuelles\n",
    "\n",
    "from datetime import datetime\n",
    "\n",
    "# Obtenir l'heure actuelle\n",
    "heure_actuelle = datetime.now()\n",
    "print(\"Heure actuelle :\", heure_actuelle)\n"
   ]
  },
  {
   "cell_type": "code",
   "execution_count": 18,
   "metadata": {},
   "outputs": [
    {
     "name": "stdout",
     "output_type": "stream",
     "text": [
      "Date convertie : 2024-12-31 00:00:00\n"
     ]
    }
   ],
   "source": [
    "# 2. Convertir une chaîne en objet datetime\n",
    "\n",
    "date_str = \"2024-12-31\"\n",
    "date_obj = datetime.strptime(date_str, \"%Y-%m-%d\")\n",
    "print(\"Date convertie :\", date_obj)\n"
   ]
  },
  {
   "cell_type": "code",
   "execution_count": 19,
   "metadata": {},
   "outputs": [
    {
     "name": "stdout",
     "output_type": "stream",
     "text": [
      "Date formatée : 01/01/2025 20:57:12\n"
     ]
    }
   ],
   "source": [
    "# 3. Convertir un objet datetime en chaîne formatée\n",
    "\n",
    "date_formattee = heure_actuelle.strftime(\"%d/%m/%Y %H:%M:%S\")\n",
    "print(\"Date formatée :\", date_formattee)\n"
   ]
  },
  {
   "cell_type": "code",
   "execution_count": 20,
   "metadata": {},
   "outputs": [
    {
     "name": "stdout",
     "output_type": "stream",
     "text": [
      "Date après 7 jours : 2025-01-08 20:57:12.750228\n"
     ]
    }
   ],
   "source": [
    "# 4. Utiliser timedelta pour ajouter une durée\n",
    "\n",
    "from datetime import timedelta\n",
    "\n",
    "# Ajouter 7 jours à la date actuelle\n",
    "date_plus_sept_jours = heure_actuelle + timedelta(days=7)\n",
    "print(\"Date après 7 jours :\", date_plus_sept_jours)\n"
   ]
  },
  {
   "cell_type": "code",
   "execution_count": 21,
   "metadata": {},
   "outputs": [
    {
     "name": "stdout",
     "output_type": "stream",
     "text": [
      "La différence entre 2024-12-25 00:00:00 et 2024-12-31 00:00:00 est de 6 jours.\n"
     ]
    }
   ],
   "source": [
    "# 5. Calculer la différence entre deux dates\n",
    "\n",
    "\n",
    "date1 = datetime(2024, 12, 25)\n",
    "date2 = datetime(2024, 12, 31)\n",
    "\n",
    "# Calculer le nombre de jours entre deux dates\n",
    "difference = (date2 - date1).days\n",
    "print(f\"La différence entre {date1} et {date2} est de {difference} jours.\")\n"
   ]
  },
  {
   "cell_type": "code",
   "execution_count": 22,
   "metadata": {},
   "outputs": [
    {
     "name": "stdout",
     "output_type": "stream",
     "text": [
      "Partie date uniquement : 2025-01-01\n"
     ]
    }
   ],
   "source": [
    "# 6. Manipuler uniquement la partie date\n",
    "\n",
    "date_actuelle = heure_actuelle.date()\n",
    "print(\"Partie date uniquement :\", date_actuelle)\n"
   ]
  },
  {
   "cell_type": "code",
   "execution_count": 23,
   "metadata": {},
   "outputs": [
    {
     "name": "stdout",
     "output_type": "stream",
     "text": [
      "Partie heure uniquement : 20:57:12.750228\n"
     ]
    }
   ],
   "source": [
    "# 7. Manipuler uniquement la partie heure\n",
    "\n",
    "heure_actuelle_time = heure_actuelle.time()\n",
    "print(\"Partie heure uniquement :\", heure_actuelle_time)"
   ]
  },
  {
   "cell_type": "code",
   "execution_count": 24,
   "metadata": {},
   "outputs": [
    {
     "name": "stdout",
     "output_type": "stream",
     "text": [
      "Nombre flottant aléatoire : 0.7317376909341575\n"
     ]
    }
   ],
   "source": [
    "#1. Générer un nombre flottant aléatoire entre 0 et 1\n",
    "\n",
    "import random\n",
    "\n",
    "# Nombre flottant aléatoire\n",
    "nombre_aleatoire = random.random()\n",
    "print(\"Nombre flottant aléatoire :\", nombre_aleatoire)\n"
   ]
  },
  {
   "cell_type": "code",
   "execution_count": 25,
   "metadata": {},
   "outputs": [
    {
     "name": "stdout",
     "output_type": "stream",
     "text": [
      "Nombre entier aléatoire entre 1 et 100 : 80\n"
     ]
    }
   ],
   "source": [
    "#2. Générer un entier aléatoire entre deux bornes\n",
    "\n",
    "# Entier aléatoire entre 1 et 100\n",
    "nombre_entier = random.randint(1, 100)\n",
    "print(\"Nombre entier aléatoire entre 1 et 100 :\", nombre_entier)\n"
   ]
  },
  {
   "cell_type": "code",
   "execution_count": 26,
   "metadata": {},
   "outputs": [
    {
     "name": "stdout",
     "output_type": "stream",
     "text": [
      "Étudiant choisi : Diana\n"
     ]
    }
   ],
   "source": [
    "#3. Sélectionner un élément aléatoire dans une liste\n",
    "\n",
    "etudiants = [\"Alice\", \"Bob\", \"Charlie\", \"Diana\"]\n",
    "\n",
    "# Choisir un étudiant au hasard\n",
    "etudiant_choisi = random.choice(etudiants)\n",
    "print(\"Étudiant choisi :\", etudiant_choisi)\n"
   ]
  },
  {
   "cell_type": "code",
   "execution_count": 27,
   "metadata": {},
   "outputs": [
    {
     "name": "stdout",
     "output_type": "stream",
     "text": [
      "Échantillon unique : [31, 32, 13, 5, 34]\n"
     ]
    }
   ],
   "source": [
    "#4. Sélectionner un échantillon unique d'éléments\n",
    "\n",
    "nombres = list(range(1, 51))\n",
    "\n",
    "# Prendre un échantillon unique de 5 nombres\n",
    "echantillon = random.sample(nombres, 5)\n",
    "print(\"Échantillon unique :\", echantillon)\n"
   ]
  },
  {
   "cell_type": "code",
   "execution_count": 28,
   "metadata": {},
   "outputs": [
    {
     "name": "stdout",
     "output_type": "stream",
     "text": [
      "Cartes mélangées : ['Reine', 'Roi', '9', 'As', 'Valet', '10']\n"
     ]
    }
   ],
   "source": [
    "#5. Mélanger une liste\n",
    "\n",
    "cartes = [\"As\", \"Roi\", \"Reine\", \"Valet\", \"10\", \"9\"]\n",
    "\n",
    "# Mélanger les cartes\n",
    "random.shuffle(cartes)\n",
    "print(\"Cartes mélangées :\", cartes)\n"
   ]
  },
  {
   "cell_type": "code",
   "execution_count": 29,
   "metadata": {},
   "outputs": [
    {
     "name": "stdout",
     "output_type": "stream",
     "text": [
      "Température simulée : 37.886056554168945\n"
     ]
    }
   ],
   "source": [
    "#6. Générer un flottant dans une plage donnée\n",
    "\n",
    "# Générer une température entre -10 et 40°C\n",
    "temperature = random.uniform(-10, 40)\n",
    "print(\"Température simulée :\", temperature)\n"
   ]
  },
  {
   "cell_type": "code",
   "execution_count": 30,
   "metadata": {},
   "outputs": [
    {
     "name": "stdout",
     "output_type": "stream",
     "text": [
      "Valeurs reproductibles : [82, 15, 4, 95, 36]\n"
     ]
    }
   ],
   "source": [
    "#7. Fixer la graine pour des résultats reproductibles\n",
    "\n",
    "# Fixer une graine pour obtenir toujours les mêmes résultats\n",
    "random.seed(42)\n",
    "valeurs = [random.randint(1, 100) for _ in range(5)]\n",
    "print(\"Valeurs reproductibles :\", valeurs)\n"
   ]
  },
  {
   "cell_type": "code",
   "execution_count": null,
   "metadata": {},
   "outputs": [],
   "source": []
  }
 ],
 "metadata": {
  "kernelspec": {
   "display_name": "base",
   "language": "python",
   "name": "python3"
  },
  "language_info": {
   "codemirror_mode": {
    "name": "ipython",
    "version": 3
   },
   "file_extension": ".py",
   "mimetype": "text/x-python",
   "name": "python",
   "nbconvert_exporter": "python",
   "pygments_lexer": "ipython3",
   "version": "3.12.7"
  }
 },
 "nbformat": 4,
 "nbformat_minor": 2
}
